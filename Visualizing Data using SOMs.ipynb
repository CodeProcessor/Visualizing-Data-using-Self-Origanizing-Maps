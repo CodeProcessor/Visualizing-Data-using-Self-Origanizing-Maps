{
 "cells": [
  {
   "cell_type": "code",
   "execution_count": 178,
   "metadata": {},
   "outputs": [],
   "source": [
    "import numpy as np\n",
    "import matplotlib.pyplot as plt\n",
    "import pandas as pd\n",
    "import math\n",
    "from sklearn.preprocessing import MinMaxScaler"
   ]
  },
  {
   "cell_type": "code",
   "execution_count": 179,
   "metadata": {},
   "outputs": [],
   "source": [
    "import minisom"
   ]
  },
  {
   "cell_type": "code",
   "execution_count": 180,
   "metadata": {},
   "outputs": [
    {
     "data": {
      "text/html": [
       "<div>\n",
       "<style scoped>\n",
       "    .dataframe tbody tr th:only-of-type {\n",
       "        vertical-align: middle;\n",
       "    }\n",
       "\n",
       "    .dataframe tbody tr th {\n",
       "        vertical-align: top;\n",
       "    }\n",
       "\n",
       "    .dataframe thead th {\n",
       "        text-align: right;\n",
       "    }\n",
       "</style>\n",
       "<table border=\"1\" class=\"dataframe\">\n",
       "  <thead>\n",
       "    <tr style=\"text-align: right;\">\n",
       "      <th></th>\n",
       "      <th>0</th>\n",
       "      <th>1</th>\n",
       "      <th>2</th>\n",
       "      <th>3</th>\n",
       "      <th>4</th>\n",
       "    </tr>\n",
       "  </thead>\n",
       "  <tbody>\n",
       "    <tr>\n",
       "      <th>0</th>\n",
       "      <td>5.1</td>\n",
       "      <td>3.5</td>\n",
       "      <td>1.4</td>\n",
       "      <td>0.2</td>\n",
       "      <td>1</td>\n",
       "    </tr>\n",
       "    <tr>\n",
       "      <th>1</th>\n",
       "      <td>4.9</td>\n",
       "      <td>3.0</td>\n",
       "      <td>1.4</td>\n",
       "      <td>0.2</td>\n",
       "      <td>1</td>\n",
       "    </tr>\n",
       "    <tr>\n",
       "      <th>2</th>\n",
       "      <td>4.6</td>\n",
       "      <td>3.1</td>\n",
       "      <td>1.5</td>\n",
       "      <td>0.2</td>\n",
       "      <td>1</td>\n",
       "    </tr>\n",
       "    <tr>\n",
       "      <th>3</th>\n",
       "      <td>5.0</td>\n",
       "      <td>3.6</td>\n",
       "      <td>1.4</td>\n",
       "      <td>0.2</td>\n",
       "      <td>1</td>\n",
       "    </tr>\n",
       "    <tr>\n",
       "      <th>4</th>\n",
       "      <td>4.6</td>\n",
       "      <td>3.4</td>\n",
       "      <td>1.4</td>\n",
       "      <td>0.3</td>\n",
       "      <td>1</td>\n",
       "    </tr>\n",
       "  </tbody>\n",
       "</table>\n",
       "</div>"
      ],
      "text/plain": [
       "     0    1    2    3  4\n",
       "0  5.1  3.5  1.4  0.2  1\n",
       "1  4.9  3.0  1.4  0.2  1\n",
       "2  4.6  3.1  1.5  0.2  1\n",
       "3  5.0  3.6  1.4  0.2  1\n",
       "4  4.6  3.4  1.4  0.3  1"
      ]
     },
     "execution_count": 180,
     "metadata": {},
     "output_type": "execute_result"
    }
   ],
   "source": [
    "# Import dataset\n",
    "file_name = 'iris.txt'\n",
    "dataset = pd.read_csv(file_name, header=None)\n",
    "\n",
    "dataset.head()"
   ]
  },
  {
   "cell_type": "code",
   "execution_count": 181,
   "metadata": {},
   "outputs": [
    {
     "data": {
      "text/plain": [
       "1"
      ]
     },
     "execution_count": 181,
     "metadata": {},
     "output_type": "execute_result"
    }
   ],
   "source": [
    "X = dataset.iloc[:, :-1]\n",
    "y = dataset.iloc[:, -1]\n",
    "y[0]"
   ]
  },
  {
   "cell_type": "markdown",
   "metadata": {},
   "source": [
    "### Feature Scaling\n"
   ]
  },
  {
   "cell_type": "code",
   "execution_count": 182,
   "metadata": {},
   "outputs": [],
   "source": [
    "sc = MinMaxScaler(feature_range=(0,1))\n",
    "X = sc.fit_transform(X)"
   ]
  },
  {
   "cell_type": "code",
   "execution_count": 183,
   "metadata": {},
   "outputs": [
    {
     "data": {
      "text/plain": [
       "(150, 4)"
      ]
     },
     "execution_count": 183,
     "metadata": {},
     "output_type": "execute_result"
    }
   ],
   "source": [
    "X.shape"
   ]
  },
  {
   "cell_type": "code",
   "execution_count": 184,
   "metadata": {},
   "outputs": [],
   "source": [
    "rows = 8\n",
    "cols = 8\n",
    "no_of_features = X.shape[1]\n",
    "no_of_epoches = 20\n",
    "no_of_iterations = 200\n",
    "learning_rate_range = (0.5, 0.01)\n",
    "initial_radius = max(rows, cols)/2"
   ]
  },
  {
   "cell_type": "code",
   "execution_count": 185,
   "metadata": {},
   "outputs": [],
   "source": [
    "som_map = np.random.uniform(size=(rows,cols,no_of_features))\n",
    "prev_som_map = np.zeros((rows,cols,no_of_features))"
   ]
  },
  {
   "cell_type": "code",
   "execution_count": 186,
   "metadata": {},
   "outputs": [
    {
     "data": {
      "text/plain": [
       "(8, 8)"
      ]
     },
     "execution_count": 186,
     "metadata": {},
     "output_type": "execute_result"
    }
   ],
   "source": [
    "som_map.shape[:2]"
   ]
  },
  {
   "cell_type": "code",
   "execution_count": 187,
   "metadata": {},
   "outputs": [],
   "source": [
    "def euclidian_distance(vector1, vector2):\n",
    "    return np.linalg.norm(vector1 - vector2)\n",
    "\n",
    "def get_closest_node(data_point, som_map):\n",
    "    h, w = som_map.shape[:2]\n",
    "#     print(\"SOM {} {}\".format(w, h))\n",
    "    smallest_dist = 1000000000\n",
    "    position = [None, None]\n",
    "    for i in range(h):\n",
    "        for j in range(w):\n",
    "            dist = euclidian_distance(som_map[i][j], data_point)\n",
    "            if dist < smallest_dist:\n",
    "                smallest_dist = dist\n",
    "                position = np.array([i, j])\n",
    "    return position\n",
    "\n",
    "def get_current_lr(iteration):\n",
    "    return learning_rate_range[0] + (learning_rate_range[1] - learning_rate_range[0])* (iteration/no_of_iterations)\n",
    "\n",
    "def get_current_radius(iteration):\n",
    "    return initial_radius*math.exp(-iteration/no_of_iterations)"
   ]
  },
  {
   "cell_type": "code",
   "execution_count": 188,
   "metadata": {},
   "outputs": [
    {
     "name": "stdout",
     "output_type": "stream",
     "text": [
      "[9.253627362859971, 2.19053240627222, 2.6449712484076704, 2.4818154846531955, 0.7483954064736471, 0.5031877524058707, 2.11717849317189, 1.9275850735976858, 1.9632992931204425, 1.082943674236977, 0.7780907443135978, 1.0232707513492494, 1.469860983496146, 1.1109677265120392, 0.5486919119548743, 1.564133185623663, 1.3878166893060602, 1.3198755885255928, 1.3598157522866174, 0.6867204974046591, 0.37163666184501976, 1.0904919079468802, 1.0577698751317606, 0.5692308590036893, 1.1248787899360297, 0.4264649388783706, 0.8475773264764367, 0.7409533832304042, 0.6872450348788934, 0.5585097546291572, 0.6868162249761864, 0.5457385707574343, 0.65226400626669, 0.9271020055555852, 0.3995798221010982, 0.834874511173666, 0.7057887884483167, 1.3149052171548874, 1.022243419515219, 0.8785606323086572, 0.5683616151083335, 0.6330693429201629, 0.8883921538995277, 0.36509469181310555, 0.3370485783254245, 0.7802442230051144, 0.39649618689572746, 0.8287554143213441, 0.2319472772598416, 0.5650110869816443, 0.20006420590442822, 0.8502713650415038, 0.3228092006586387, 0.4233259497395021, 0.33371478173253133, 0.1542807558220139, 0.17459173500054084, 0.8231447292476404, 0.29266804568356275, 0.21089565708883293, 0.49437277032995947, 0.6410900272392311, 0.3492922438951009, 0.5753282453028573, 0.43767237371407447, 0.6134427997492833, 0.43643086453679736, 0.4979632811754941, 0.5068014710785346, 0.26751185378449194, 0.5024585316308501, 0.308546273014754, 0.3708348320196607, 0.4453831911100971, 0.43740741815202133, 0.19580464347727705, 0.42053981103697086, 0.2835121795439958, 0.368735489448949, 0.37369309763451836, 0.3884459525885798, 0.2446208557704073, 0.3375872370489349, 0.3488996607340933, 0.37941326372238504, 0.4541185850502328, 0.22388040889680372, 0.26809871278241865, 0.427820971450304, 0.30964024182804983, 0.40240203338904895, 0.19677833402815864, 0.25489072228795145, 0.3200189374513009, 0.20261905199004182, 0.269737231148403, 0.20330382894601495, 0.16297513889440662, 0.22210257063860844, 0.12527520341954934, 0.1429822958558922, 0.30199850358518376, 0.40307353613575386, 0.4644576885144304, 0.10570754639779296, 0.2629006924231982, 0.18992017518235838, 0.24455811279726336, 0.22604777307165969, 0.2736311683901536, 0.2642779429428741, 0.10650757993727598, 0.40269302373786403, 0.23124797735307842, 0.19658421383614133, 0.14419955601907808, 0.17161698483020385, 0.29211014114699757, 0.059714903445691185, 0.10966473049855863, 0.21628517361506508, 0.08597802914503742, 0.09365040396425875, 0.17269452747180683, 0.11158922276570124, 0.07913783473106417, 0.13624325939264265, 0.1637885891985717, 0.1001041188853427, 0.1561641668682153, 0.20881728609192143, 0.16473457741002145, 0.11865573664357155, 0.0844970588114482, 0.13634971444349775, 0.08648547912908988, 0.1522941349756167, 0.0552503618566046, 0.13723877854304903, 0.08049122176108746, 0.07319056655340112, 0.14000967747389537, 0.07419078200477922, 0.06368200427761135, 0.030414884977249337, 0.025439875597911516, 0.031255278142006016, 0.07666393584493474, 0.045181803429001764, 0.04728497429555281, 0.05277209754873833, 0.033288978270895234, 0.07814960784831905, 0.05207286635828257, 0.042226374648177585, 0.07734518908065167, 0.05579572150056805, 0.04808619118200992, 0.05162653716448384, 0.048617948804103084, 0.03499596926915544, 0.04512561663684174, 0.07527142185037992, 0.05996109939685399, 0.02570382009118387, 0.02598643012211862, 0.045596669604973404, 0.05210539918525771, 0.06396470543236474, 0.06320625380824034, 0.038819728888501624, 0.045769386860386556, 0.04562616647951896, 0.03290707697446134, 0.03115901339540572, 0.02077630137832977, 0.03499393798373499, 0.04623239250245395, 0.03279572460535824, 0.019241567287064686, 0.02916851266109876, 0.01276227395474589, 0.032302154752683415, 0.029767081126810282, 0.018721807763679592, 0.01181080135978296, 0.03575726045476553, 0.014696315254793382, 0.02732735459005046, 0.0137607743338376, 0.012430429251746913, 0.012130037870741689, 0.015437006775107726, 0.015657968994880332, 0.003916479390370885, 0.008305205941586133, 0.005169579997620863, 0.004924301692719252, 0.008906231604870429, 0.005568025864591799]\n"
     ]
    }
   ],
   "source": [
    "convergence = []\n",
    "\n",
    "for _iter in range(no_of_iterations):\n",
    "    current_learning_rate = get_current_lr(_iter)\n",
    "    current_radius = get_current_radius(_iter)\n",
    "#     print(\"Current LR: {}\".format(current_learning_rate))\n",
    "#     print(\"Current Radius: {}\".format(current_radius))\n",
    "    J = np.linalg.norm(som_map - prev_som_map)\n",
    "    randomly_selected_data = X[np.random.randint(len(X))]\n",
    "    bmu_index = get_closest_node(randomly_selected_data, som_map)\n",
    "    prev_som_map = np.copy(som_map)\n",
    "    \n",
    "    for col in range(cols):\n",
    "        for row in range(rows):\n",
    "#             print(row, col)\n",
    "            som_distance = euclidian_distance(bmu_index, np.array([row, col]))\n",
    "            if som_distance <= current_radius:\n",
    "                som_map[row][col] = som_map[row][col] + current_learning_rate * ( randomly_selected_data - som_map[row][col])\n",
    "\n",
    "    convergence.append(J)\n",
    "\n",
    "print(convergence)\n",
    "    "
   ]
  },
  {
   "cell_type": "code",
   "execution_count": 189,
   "metadata": {},
   "outputs": [
    {
     "data": {
      "image/png": "[encoded data removed]",
      "text/plain": [
       "<Figure size 432x288 with 1 Axes>"
      ]
     },
     "metadata": {
      "needs_background": "light"
     },
     "output_type": "display_data"
    },
    {
     "data": {
      "text/plain": [
       "<Figure size 1440x1440 with 0 Axes>"
      ]
     },
     "metadata": {},
     "output_type": "display_data"
    },
    {
     "name": "stdout",
     "output_type": "stream",
     "text": [
      "Final error: 0.005568025864591799\n"
     ]
    }
   ],
   "source": [
    "plt.plot(convergence)\n",
    "plt.ylabel('error')\n",
    "plt.xlabel('iteration')\n",
    "plt.grid(True)\n",
    "plt.yscale('log')\n",
    "plt.figure(figsize = (20,20))\n",
    "plt.show()\n",
    "# print('Number of timesteps: ' + str(timestep))\n",
    "print('Final error: ' + str(J))"
   ]
  },
  {
   "cell_type": "code",
   "execution_count": 190,
   "metadata": {},
   "outputs": [
    {
     "name": "stdout",
     "output_type": "stream",
     "text": [
      "Red = Class 1\n",
      "Blue = Class 2\n",
      "Green = Class 3\n"
     ]
    },
    {
     "data": {
      "text/plain": [
       "<matplotlib.image.AxesImage at 0x7fdc08252d50>"
      ]
     },
     "execution_count": 190,
     "metadata": {},
     "output_type": "execute_result"
    },
    {
     "data": {
      "image/png": "[encoded data removed]",
      "text/plain": [
       "<Figure size 720x720 with 1 Axes>"
      ]
     },
     "metadata": {
      "needs_background": "light"
     },
     "output_type": "display_data"
    }
   ],
   "source": [
    "# from scipy.misc import toimage\n",
    "from PIL import Image\n",
    "\n",
    "\n",
    "BMU = np.zeros([2],dtype=np.int32)\n",
    "result_map = np.zeros([rows,cols,3],dtype=np.float32)\n",
    "\n",
    "i=0\n",
    "for i, pattern in enumerate(X):\n",
    "    \n",
    "#     pattern_ary = np.tile(pattern, (map_height, map_width, 1))\n",
    "#     Eucli_MAP = np.linalg.norm(pattern_ary - MAP_final, axis=2)\n",
    "\n",
    "    # Get the best matching unit(BMU) which is the one with the smallest Euclidean distance\n",
    "    BMU = get_closest_node(pattern, som_map)\n",
    "    \n",
    "    row = BMU[0]\n",
    "    col = BMU[1]\n",
    "    \n",
    "    if y[i] == 1:\n",
    "        if result_map[row][col][0] <= 0.5:\n",
    "            result_map[row][col] += np.asarray([0.5,0,0])\n",
    "    elif y[i] == 2:\n",
    "        if result_map[row][col][1] <= 0.5:\n",
    "            result_map[row][col] += np.asarray([0,0.5,0])\n",
    "    elif y[i] == 3:\n",
    "        if result_map[row][col][2] <= 0.5:\n",
    "            result_map[row][col] += np.asarray([0,0,0.5])\n",
    "    i+=1\n",
    "result_map = np.flip(result_map,0)\n",
    "    \n",
    "#print result_map\n",
    "\n",
    "print(\"Red = Class 1\")\n",
    "print(\"Blue = Class 2\")\n",
    "print(\"Green = Class 3\")\n",
    "\n",
    "plt.figure(figsize = (10,10))\n",
    "plt.imshow(result_map, interpolation='nearest')"
   ]
  },
  {
   "cell_type": "markdown",
   "metadata": {},
   "source": [
    "## Use Minisom"
   ]
  },
  {
   "cell_type": "code",
   "execution_count": 191,
   "metadata": {},
   "outputs": [],
   "source": [
    "som = minisom.MiniSom(x=10, y=10, input_len=4, sigma=1, learning_rate=0.5)\n",
    "som.random_weights_init(X)"
   ]
  },
  {
   "cell_type": "code",
   "execution_count": 192,
   "metadata": {},
   "outputs": [],
   "source": [
    "som.train_random(data=X, num_iteration=100)"
   ]
  },
  {
   "cell_type": "code",
   "execution_count": null,
   "metadata": {},
   "outputs": [],
   "source": []
  }
 ],
 "metadata": {
  "kernelspec": {
   "display_name": "Python 3",
   "language": "python",
   "name": "python3"
  },
  "language_info": {
   "codemirror_mode": {
    "name": "ipython",
    "version": 3
   },
   "file_extension": ".py",
   "mimetype": "text/x-python",
   "name": "python",
   "nbconvert_exporter": "python",
   "pygments_lexer": "ipython3",
   "version": "3.7.6"
  }
 },
 "nbformat": 4,
 "nbformat_minor": 4
}
