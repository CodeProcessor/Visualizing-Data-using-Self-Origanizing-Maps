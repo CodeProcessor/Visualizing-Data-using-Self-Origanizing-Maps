{
 "cells": [
  {
   "cell_type": "code",
   "execution_count": 231,
   "metadata": {},
   "outputs": [],
   "source": [
    "import numpy as np\n",
    "import matplotlib.pyplot as plt\n",
    "import pandas as pd\n",
    "import math\n",
    "from sklearn.preprocessing import MinMaxScaler"
   ]
  },
  {
   "cell_type": "markdown",
   "metadata": {},
   "source": [
    "### Import dataset"
   ]
  },
  {
   "cell_type": "code",
   "execution_count": 232,
   "metadata": {},
   "outputs": [
    {
     "data": {
      "text/html": [
       "<div>\n",
       "<style scoped>\n",
       "    .dataframe tbody tr th:only-of-type {\n",
       "        vertical-align: middle;\n",
       "    }\n",
       "\n",
       "    .dataframe tbody tr th {\n",
       "        vertical-align: top;\n",
       "    }\n",
       "\n",
       "    .dataframe thead th {\n",
       "        text-align: right;\n",
       "    }\n",
       "</style>\n",
       "<table border=\"1\" class=\"dataframe\">\n",
       "  <thead>\n",
       "    <tr style=\"text-align: right;\">\n",
       "      <th></th>\n",
       "      <th>0</th>\n",
       "      <th>1</th>\n",
       "      <th>2</th>\n",
       "      <th>3</th>\n",
       "      <th>4</th>\n",
       "    </tr>\n",
       "  </thead>\n",
       "  <tbody>\n",
       "    <tr>\n",
       "      <th>0</th>\n",
       "      <td>5.1</td>\n",
       "      <td>3.5</td>\n",
       "      <td>1.4</td>\n",
       "      <td>0.2</td>\n",
       "      <td>1</td>\n",
       "    </tr>\n",
       "    <tr>\n",
       "      <th>1</th>\n",
       "      <td>4.9</td>\n",
       "      <td>3.0</td>\n",
       "      <td>1.4</td>\n",
       "      <td>0.2</td>\n",
       "      <td>1</td>\n",
       "    </tr>\n",
       "    <tr>\n",
       "      <th>2</th>\n",
       "      <td>4.6</td>\n",
       "      <td>3.1</td>\n",
       "      <td>1.5</td>\n",
       "      <td>0.2</td>\n",
       "      <td>1</td>\n",
       "    </tr>\n",
       "    <tr>\n",
       "      <th>3</th>\n",
       "      <td>5.0</td>\n",
       "      <td>3.6</td>\n",
       "      <td>1.4</td>\n",
       "      <td>0.2</td>\n",
       "      <td>1</td>\n",
       "    </tr>\n",
       "    <tr>\n",
       "      <th>4</th>\n",
       "      <td>4.6</td>\n",
       "      <td>3.4</td>\n",
       "      <td>1.4</td>\n",
       "      <td>0.3</td>\n",
       "      <td>1</td>\n",
       "    </tr>\n",
       "  </tbody>\n",
       "</table>\n",
       "</div>"
      ],
      "text/plain": [
       "     0    1    2    3  4\n",
       "0  5.1  3.5  1.4  0.2  1\n",
       "1  4.9  3.0  1.4  0.2  1\n",
       "2  4.6  3.1  1.5  0.2  1\n",
       "3  5.0  3.6  1.4  0.2  1\n",
       "4  4.6  3.4  1.4  0.3  1"
      ]
     },
     "execution_count": 232,
     "metadata": {},
     "output_type": "execute_result"
    }
   ],
   "source": [
    "file_name = 'iris.txt'\n",
    "dataset = pd.read_csv(file_name, header=None)\n",
    "X = dataset.iloc[:, :-1]\n",
    "y = dataset.iloc[:, -1]\n",
    "dataset.head()"
   ]
  },
  {
   "cell_type": "markdown",
   "metadata": {},
   "source": [
    "### Feature Scaling\n"
   ]
  },
  {
   "cell_type": "code",
   "execution_count": 233,
   "metadata": {},
   "outputs": [],
   "source": [
    "sc = MinMaxScaler(feature_range=(0,1))\n",
    "X = sc.fit_transform(X)"
   ]
  },
  {
   "cell_type": "markdown",
   "metadata": {},
   "source": [
    "### Parameters"
   ]
  },
  {
   "cell_type": "code",
   "execution_count": 234,
   "metadata": {},
   "outputs": [],
   "source": [
    "rows = 8\n",
    "cols = 8\n",
    "no_of_features = X.shape[1]\n",
    "no_of_epoches = 20\n",
    "no_of_iterations = 200\n",
    "learning_rate_range = (0.5, 0.01)\n",
    "initial_radius = max(rows, cols)/2"
   ]
  },
  {
   "cell_type": "code",
   "execution_count": 235,
   "metadata": {},
   "outputs": [],
   "source": [
    "### Function Declaration\n",
    "\n",
    "def euclidian_distance(vector1, vector2):\n",
    "    return np.linalg.norm(vector1 - vector2)\n",
    "\n",
    "def get_closest_node(data_point, som_map):\n",
    "    h, w = som_map.shape[:2]\n",
    "#     print(\"SOM {} {}\".format(w, h))\n",
    "    smallest_dist = 1000000000\n",
    "    position = [None, None]\n",
    "    for i in range(h):\n",
    "        for j in range(w):\n",
    "            dist = euclidian_distance(som_map[i][j], data_point)\n",
    "            if dist < smallest_dist:\n",
    "                smallest_dist = dist\n",
    "                position = np.array([i, j])\n",
    "    return position\n",
    "\n",
    "def get_current_lr(iteration):\n",
    "    return learning_rate_range[0] + (learning_rate_range[1] - learning_rate_range[0])* (iteration/no_of_iterations)\n",
    "\n",
    "def get_current_radius(iteration):\n",
    "    return initial_radius*math.exp(-iteration/no_of_iterations)"
   ]
  },
  {
   "cell_type": "markdown",
   "metadata": {},
   "source": [
    "### SOM Training"
   ]
  },
  {
   "cell_type": "code",
   "execution_count": 236,
   "metadata": {},
   "outputs": [
    {
     "name": "stdout",
     "output_type": "stream",
     "text": [
      "New optimum point found, iter 0 cost: 9.057429871662814\n",
      "New optimum point found, iter 1 cost: 2.8687971615053276\n",
      "New optimum point found, iter 2 cost: 1.9024747143819785\n",
      "New optimum point found, iter 3 cost: 1.048724622450695\n",
      "New optimum point found, iter 7 cost: 0.989165705118264\n",
      "New optimum point found, iter 8 cost: 0.7024290491311932\n",
      "New optimum point found, iter 16 cost: 0.3285274151710763\n",
      "New optimum point found, iter 24 cost: 0.3218453983686214\n",
      "New optimum point found, iter 59 cost: 0.24563411213938977\n",
      "New optimum point found, iter 64 cost: 0.2206220290588103\n",
      "New optimum point found, iter 74 cost: 0.13593922911297016\n",
      "New optimum point found, iter 98 cost: 0.10128048530142225\n",
      "New optimum point found, iter 126 cost: 0.09622390144527655\n",
      "New optimum point found, iter 129 cost: 0.07242361376986828\n",
      "New optimum point found, iter 137 cost: 0.05471382263840956\n",
      "New optimum point found, iter 140 cost: 0.05066501015322688\n",
      "New optimum point found, iter 142 cost: 0.04455328856143909\n",
      "New optimum point found, iter 144 cost: 0.03859425310972896\n",
      "New optimum point found, iter 150 cost: 0.027617033310817968\n",
      "New optimum point found, iter 153 cost: 0.022939086939849876\n",
      "New optimum point found, iter 162 cost: 0.019172343235194386\n",
      "New optimum point found, iter 170 cost: 0.017301762508030723\n",
      "New optimum point found, iter 180 cost: 0.012794712174634968\n",
      "New optimum point found, iter 189 cost: 0.011857931638329041\n",
      "New optimum point found, iter 190 cost: 0.002697180931951012\n"
     ]
    }
   ],
   "source": [
    "som_map = np.random.uniform(size=(rows,cols,no_of_features))\n",
    "prev_som_map = np.zeros((rows,cols,no_of_features))\n",
    "convergence = []\n",
    "pre_cost = 100\n",
    "for _iter in range(no_of_iterations):\n",
    "    current_learning_rate = get_current_lr(_iter)\n",
    "    current_radius = get_current_radius(_iter)\n",
    "#     print(\"Current LR: {}\".format(current_learning_rate))\n",
    "#     print(\"Current Radius: {}\".format(current_radius))\n",
    "    J = np.linalg.norm(som_map - prev_som_map)\n",
    "    randomly_selected_data = X[np.random.randint(len(X))]\n",
    "    bmu_index = get_closest_node(randomly_selected_data, som_map)\n",
    "    prev_som_map = np.copy(som_map)\n",
    "    \n",
    "    for col in range(cols):\n",
    "        for row in range(rows):\n",
    "#             print(row, col)\n",
    "            som_distance = euclidian_distance(bmu_index, np.array([row, col]))\n",
    "            if som_distance <= current_radius:\n",
    "                som_map[row][col] = som_map[row][col] + current_learning_rate * ( randomly_selected_data - som_map[row][col])\n",
    "    if pre_cost > J:\n",
    "        print(\"New optimum point found, iter {} cost: {}\".format(_iter, J))\n",
    "        pre_cost = J\n",
    "    convergence.append(J)\n",
    "\n",
    "# print(convergence)\n",
    "    "
   ]
  },
  {
   "cell_type": "code",
   "execution_count": 237,
   "metadata": {},
   "outputs": [
    {
     "data": {
      "image/png": "[encoded data removed]",
      "text/plain": [
       "<Figure size 432x288 with 1 Axes>"
      ]
     },
     "metadata": {
      "needs_background": "light"
     },
     "output_type": "display_data"
    },
    {
     "data": {
      "text/plain": [
       "<Figure size 1440x1440 with 0 Axes>"
      ]
     },
     "metadata": {},
     "output_type": "display_data"
    },
    {
     "name": "stdout",
     "output_type": "stream",
     "text": [
      "Final error: 0.004988183897512786\n"
     ]
    }
   ],
   "source": [
    "plt.plot(convergence)\n",
    "plt.ylabel('error')\n",
    "plt.xlabel('iteration')\n",
    "plt.grid(True)\n",
    "plt.yscale('log')\n",
    "plt.figure(figsize = (20,20))\n",
    "plt.show()\n",
    "# print('Number of timesteps: ' + str(timestep))\n",
    "print('Final error: ' + str(J))"
   ]
  },
  {
   "cell_type": "code",
   "execution_count": 238,
   "metadata": {},
   "outputs": [
    {
     "name": "stdout",
     "output_type": "stream",
     "text": [
      "Red = Class 1\n",
      "Blue = Class 2\n",
      "Green = Class 3\n"
     ]
    },
    {
     "data": {
      "text/plain": [
       "<matplotlib.image.AxesImage at 0x7fdc0841f0d0>"
      ]
     },
     "execution_count": 238,
     "metadata": {},
     "output_type": "execute_result"
    },
    {
     "data": {
      "image/png": "[encoded data removed]",
      "text/plain": [
       "<Figure size 720x720 with 1 Axes>"
      ]
     },
     "metadata": {
      "needs_background": "light"
     },
     "output_type": "display_data"
    }
   ],
   "source": [
    "# from scipy.misc import toimage\n",
    "from PIL import Image\n",
    "\n",
    "\n",
    "BMU = np.zeros([2],dtype=np.int32)\n",
    "result_map = np.zeros([rows,cols,3],dtype=np.float32)\n",
    "\n",
    "i=0\n",
    "for i, pattern in enumerate(X):\n",
    "    BMU = get_closest_node(pattern, som_map)\n",
    "    \n",
    "    row = BMU[0]\n",
    "    col = BMU[1]\n",
    "    \n",
    "    if y[i] == 1:\n",
    "        if result_map[row][col][0] <= 0.5:\n",
    "            result_map[row][col] += np.asarray([0.5,0,0])\n",
    "    elif y[i] == 2:\n",
    "        if result_map[row][col][1] <= 0.5:\n",
    "            result_map[row][col] += np.asarray([0,0.5,0])\n",
    "    elif y[i] == 3:\n",
    "        if result_map[row][col][2] <= 0.5:\n",
    "            result_map[row][col] += np.asarray([0,0,0.5])\n",
    "    i+=1\n",
    "result_map = np.flip(result_map,0)\n",
    "    \n",
    "print(\"Red = Class 1\")\n",
    "print(\"Blue = Class 2\")\n",
    "print(\"Green = Class 3\")\n",
    "\n",
    "plt.figure(figsize = (10,10))\n",
    "plt.imshow(result_map, interpolation='nearest')"
   ]
  }
 ],
 "metadata": {
  "kernelspec": {
   "display_name": "Python 3",
   "language": "python",
   "name": "python3"
  },
  "language_info": {
   "codemirror_mode": {
    "name": "ipython",
    "version": 3
   },
   "file_extension": ".py",
   "mimetype": "text/x-python",
   "name": "python",
   "nbconvert_exporter": "python",
   "pygments_lexer": "ipython3",
   "version": "3.7.6"
  }
 },
 "nbformat": 4,
 "nbformat_minor": 4
}
